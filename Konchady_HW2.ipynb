{
 "cells": [
  {
   "cell_type": "code",
   "execution_count": 30,
   "metadata": {
    "collapsed": true
   },
   "outputs": [],
   "source": [
    "#import relevant packages\n",
    "import numpy as np\n",
    "import matplotlib.pyplot as plt\n",
    "import scipy as sp\n",
    "import scipy.constants as spc\n",
    "import scipy.integrate as spi\n",
    "%matplotlib inline"
   ]
  },
  {
   "cell_type": "code",
   "execution_count": 31,
   "metadata": {
    "collapsed": true
   },
   "outputs": [],
   "source": [
    "#set default mu1 (Sun), mu2 (Jupiter)\n",
    "G =  39.8#in AU^3/(1 solar mass*years^2)\n",
    "mu_1 = G*1.\n",
    "mu_2 = G*0.0009543\n",
    "mu1_ = mu_1/(mu_1+mu_2)\n",
    "mu2_ = mu_2/(mu_1+mu_2)\n",
    "\n",
    "#define functions for r1, r2, udot, vdot, and position function\n",
    "def r1(x,y,z=0,mu2=mu_2):\n",
    "    return np.sqrt((x+mu2)**2 + y**2 + z**2)\n",
    "\n",
    "def r2(x,y,z=0,mu1=mu_1):\n",
    "    return np.sqrt((x-mu1)**2 + y**2 + z**2)\n",
    "\n",
    "def udot(x,y,v,mu1=mu1_,mu2=mu2_):\n",
    "    u_dot = -(mu1*((x+mu2)/(r1(x,y))**3)) - (mu2*((x-mu1)/(r2(x,y))**3)) + x + (2*v)\n",
    "    return u_dot\n",
    "\n",
    "def vdot(x,y,u,v,mu1=mu1_,mu2=mu2_):\n",
    "    v_dot = -((mu1*y)/(r1(x,y))**3) - ((mu2*y)/(r2(x,y))**3) + y -(2*u)\n",
    "    return v_dot\n",
    "\n",
    "def pos(posit,t):\n",
    "    x0,y0,u0,v0 = posit\n",
    "    x1 = x0 + (u0*t)+(0.5*udot(x0,y0,u0,v0)*t**2)\n",
    "    y1 = y0 + (v0*t) +(0.5*vdot(x0,y0,u0,v0)*t**2)\n",
    "    u1 = u0 + (udot(x0,y0,u0,v0))*t\n",
    "    v1 = v0 + (vdot(x0,y0,u0,v0))*t\n",
    "    return [x1,y1,u1,v1]"
   ]
  },
  {
   "cell_type": "code",
   "execution_count": 32,
   "metadata": {},
   "outputs": [
    {
     "name": "stderr",
     "output_type": "stream",
     "text": [
      "/home/tkonchady/anaconda3/lib/python3.6/site-packages/ipykernel_launcher.py:16: RuntimeWarning: overflow encountered in double_scalars\n",
      "  app.launch_new_instance()\n",
      "/home/tkonchady/anaconda3/lib/python3.6/site-packages/ipykernel_launcher.py:20: RuntimeWarning: overflow encountered in double_scalars\n",
      "/home/tkonchady/anaconda3/lib/python3.6/site-packages/ipykernel_launcher.py:10: RuntimeWarning: overflow encountered in double_scalars\n",
      "  # Remove the CWD from sys.path while we load stuff.\n",
      "/home/tkonchady/anaconda3/lib/python3.6/site-packages/ipykernel_launcher.py:13: RuntimeWarning: overflow encountered in double_scalars\n",
      "  del sys.path[0]\n",
      "/home/tkonchady/anaconda3/lib/python3.6/site-packages/ipykernel_launcher.py:25: RuntimeWarning: overflow encountered in double_scalars\n",
      "/home/tkonchady/anaconda3/lib/python3.6/site-packages/ipykernel_launcher.py:26: RuntimeWarning: overflow encountered in double_scalars\n",
      "/home/tkonchady/anaconda3/lib/python3.6/site-packages/ipykernel_launcher.py:27: RuntimeWarning: overflow encountered in double_scalars\n",
      "/home/tkonchady/anaconda3/lib/python3.6/site-packages/ipykernel_launcher.py:28: RuntimeWarning: overflow encountered in double_scalars\n",
      "/home/tkonchady/anaconda3/lib/python3.6/site-packages/ipykernel_launcher.py:16: RuntimeWarning: invalid value encountered in double_scalars\n",
      "  app.launch_new_instance()\n",
      "/home/tkonchady/anaconda3/lib/python3.6/site-packages/ipykernel_launcher.py:20: RuntimeWarning: invalid value encountered in double_scalars\n"
     ]
    }
   ],
   "source": [
    "#define arrays of initial conditions\n",
    "x0 = np.array([-0.51,-0.52,-0.52,-0.51,-0.53])\n",
    "y0 = np.array([0.88,0.91,0.92,0.88,0.92])\n",
    "u0 = np.array([0.026,0.65,0.078,-0.026,0.078])\n",
    "v0 = np.array([0.015,0.037,0.043,-0.015,0.043])\n",
    "x=[x0[0]]\n",
    "y=[y0[0]]\n",
    "u=[u0[0]]\n",
    "v=[v0[0]]\n",
    "\n",
    "#define time over which integration will happen\n",
    "time = np.linspace(0,1000,num=1000)\n",
    "\n",
    "for i in range(len(time)):\n",
    "    new_pos = pos([x[i],y[i],u[i],v[i]],time[i])\n",
    "    x.append(new_pos[0])\n",
    "    y.append(new_pos[1])\n",
    "    u.append(new_pos[2])\n",
    "    v.append(new_pos[3])\n"
   ]
  },
  {
   "cell_type": "code",
   "execution_count": 27,
   "metadata": {},
   "outputs": [
    {
     "data": {
      "text/plain": [
       "[<matplotlib.lines.Line2D at 0x7f6fc91f5860>]"
      ]
     },
     "execution_count": 27,
     "metadata": {},
     "output_type": "execute_result"
    },
    {
     "data": {
      "image/png": "[encoded data removed]",
      "text/plain": [
       "<matplotlib.figure.Figure at 0x7f6fc922bf28>"
      ]
     },
     "metadata": {},
     "output_type": "display_data"
    }
   ],
   "source": [
    "plt.plot(x,y)"
   ]
  },
  {
   "cell_type": "code",
   "execution_count": null,
   "metadata": {
    "collapsed": true
   },
   "outputs": [],
   "source": []
  }
 ],
 "metadata": {
  "kernelspec": {
   "display_name": "Python 3",
   "language": "python",
   "name": "python3"
  },
  "language_info": {
   "codemirror_mode": {
    "name": "ipython",
    "version": 3
   },
   "file_extension": ".py",
   "mimetype": "text/x-python",
   "name": "python",
   "nbconvert_exporter": "python",
   "pygments_lexer": "ipython3",
   "version": "3.6.3"
  }
 },
 "nbformat": 4,
 "nbformat_minor": 2
}
